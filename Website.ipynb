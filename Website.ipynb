{
 "cells": [
  {
   "cell_type": "markdown",
   "metadata": {
    "slideshow": {
     "slide_type": "slide"
    }
   },
   "source": [
    "# Gentrification in New York City \n",
    "\n",
    "### by Kamal Bargach (s184427), Miguel Bustorff(s184468) and Sammy Steffensen Benomar (s174449)\n",
    "\n",
    "PS:Link to the [Explainer Notebook][7]\n",
    "\n",
    "[7]:https://github.com/mbbustorff/SocialDataProject_NYCGentrification/blob/master/Explainer%20Notebook.ipynb"
   ]
  },
  {
   "cell_type": "markdown",
   "metadata": {
    "slideshow": {
     "slide_type": "slide"
    }
   },
   "source": [
    "# What factors, visible in open datasets, could be correlated with gentrification?\n",
    "\n",
    "\n",
    "# First, a brief introduction\n",
    "\n",
    "\n",
    "**NYC** is one of the largest cities in the world. Therefore, a lot of urban phenomena can be observed accross its streets. With this project, our group tried to bring a focus into the phenomenon of **gentrification** that happened in some New York neighborhoods. \n",
    "\n",
    "According to the [Cambridge dictionnary][3], **Gentrification** is \n",
    ">\"the process by which a place, especially part of a city, changes from being a poor area to a richer one, where people from a higher social class live.\"\n",
    "\n",
    "[3]:https://dictionary.cambridge.org/fr/dictionnaire/anglais/gentrification\n",
    "\n",
    "#### Press the arrows on the bottom right of the screen to navigate\n",
    "(Press down to learn more about our approach)\n",
    "\n",
    "[<img src=\"arrow1.png\" width=\"200\"/>](arrow1.png)"
   ]
  },
  {
   "cell_type": "markdown",
   "metadata": {
    "slideshow": {
     "slide_type": "subslide"
    }
   },
   "source": [
    "# Key neighborhoods\n",
    "\n",
    "By doing some research (not part of our data analysis), we found out that the 7 most gentrified ZIP code areas in NYC in the past 2 decades are the following (according to [an american study][2])\n",
    "\n",
    "* 10039 - *Harlem*\n",
    "* 10026 - *Harlem (Central Park)*\n",
    "* 11211 - *Brooklyn (Williamsburg)*\n",
    "* 11222 - *Greenpark*\n",
    "* 11216 - *Bedford-Stuyvesant and Crown Heights*\n",
    "* 11237 - *Bushwick*\n",
    "* 11221 - *Bushwick*\n",
    "\n",
    "Throughout our analysis and visualizations, we will try to focus on those Zip code areas when possible, in order to find out <u>what factors are linked with gentrification</u>\n",
    "\n",
    "[<img src=\"arrow1.png\" width=\"200\"/>](arrow1.png)\n",
    "\n",
    "[2]: https://patch.com/new-york/new-york-city/these-nyc-neighborhoods-are-among-nations-most-gentrified"
   ]
  },
  {
   "cell_type": "markdown",
   "metadata": {
    "slideshow": {
     "slide_type": "subslide"
    }
   },
   "source": [
    "# Criteria analyzed\n",
    "\n",
    "To make our analysis and observation, we used 2 datasets: the [*Property Valuation and Assessment Data*][4] and the [*NYPD Arrests Data (Historic)*][5].\n",
    "\n",
    "With those datasets, our goal is to observe 2 criteria and their link to gentrification: \n",
    "* **The evolution of property prices per ZIP code**\n",
    "* **The evolution of violence in NYC zones**\n",
    "\n",
    "\n",
    "\n",
    "[4]:https://data.cityofnewyork.us/City-Government/Property-Valuation-and-Assessment-Data/yjxr-fw8i/data?fbclid=IwAR1ACUlfmiC_3X7V_9nThDrXZdixspQ3RC8CpgC6Es_jdddbVJgaelbZOVk\n",
    "\n",
    "[5]:https://data.cityofnewyork.us/Public-Safety/NYPD-Arrests-Data-Historic-/8h9b-rp9u?fbclid=IwAR1Fc_aG8q-uEcfy-WO6jRh_TFmtK_s2k-CgGrh6tUS43uZb2h9Dm0qYT58\n"
   ]
  },
  {
   "cell_type": "code",
   "execution_count": 11,
   "metadata": {
    "slideshow": {
     "slide_type": "skip"
    }
   },
   "outputs": [],
   "source": [
    "from IPython.display import IFrame\n",
    "\n"
   ]
  },
  {
   "cell_type": "markdown",
   "metadata": {
    "slideshow": {
     "slide_type": "slide"
    }
   },
   "source": [
    "# Evolution of the property prices between 2010 and 2019\n",
    "if map not working, [download here][9]\n",
    "\n",
    "[9]: https://github.com/mbbustorff/SocialDataProject_NYCGentrification/blob/master/difference_price.html"
   ]
  },
  {
   "cell_type": "code",
   "execution_count": 14,
   "metadata": {
    "slideshow": {
     "slide_type": "-"
    }
   },
   "outputs": [
    {
     "data": {
      "text/html": [
       "\n",
       "        <iframe\n",
       "            width=\"450\"\n",
       "            height=\"350\"\n",
       "            src=\"difference_price.html\"\n",
       "            frameborder=\"0\"\n",
       "            allowfullscreen\n",
       "        ></iframe>\n",
       "        "
      ],
      "text/plain": [
       "<IPython.lib.display.IFrame at 0x259e0ac1248>"
      ]
     },
     "execution_count": 14,
     "metadata": {},
     "output_type": "execute_result"
    }
   ],
   "source": [
    "IFrame(src='difference_price.html', width=450, height=350)"
   ]
  },
  {
   "cell_type": "markdown",
   "metadata": {
    "slideshow": {
     "slide_type": "-"
    }
   },
   "source": [
    "[<img src=\"sc25.png\" width=\"500\"/>](sc25.png)\n",
    "Percentages.\n",
    "\n",
    "\n",
    "We can see that the *gentrified* zip codes do not necessarily have the biggest price evolution. \n",
    "Lets take a closer look..."
   ]
  },
  {
   "cell_type": "markdown",
   "metadata": {
    "slideshow": {
     "slide_type": "subslide"
    }
   },
   "source": [
    "# Evolution of the property prices of the gentrified Zip codes each year\n",
    "\n",
    "This visualizations show the average change of property value in percentage, every year. Each dot represent one of the 7 *gentrified* Zip code areas, an the line represents the total average, of all NYC Zip codes. \n",
    "\n",
    "[<img src=\"sc1.png\" width=\"500\"/>](sc1.png)\n",
    "[<img src=\"sc2.png\" width=\"500\"/>](sc2.png)"
   ]
  },
  {
   "cell_type": "markdown",
   "metadata": {
    "slideshow": {
     "slide_type": "subslide"
    }
   },
   "source": [
    "[<img src=\"sc3.png\" width=\"500\"/>](sc3.png)\n",
    "[<img src=\"sc4.png\" width=\"500\"/>](sc4.png)"
   ]
  },
  {
   "cell_type": "markdown",
   "metadata": {
    "slideshow": {
     "slide_type": "subslide"
    }
   },
   "source": [
    "[<img src=\"sc7.png\" width=\"500\"/>](sc7.png)\n",
    "[<img src=\"sc8.png\" width=\"500\"/>](sc8.png)"
   ]
  },
  {
   "cell_type": "markdown",
   "metadata": {
    "slideshow": {
     "slide_type": "subslide"
    }
   },
   "source": [
    "# Price evolution conclusion\n",
    "\n",
    "With the previous visualizations, we can see that the most gentrified neighbourhoods of New York, are not exactly the ones who suffered the greatest price increase in the past 10 years. However, those Zip codes, saw their price increase more than the average increase in NYC towards the closest years. It is not possible to link gentrification only to property price increase, however, we can still say it is a good indicator."
   ]
  },
  {
   "cell_type": "markdown",
   "metadata": {
    "slideshow": {
     "slide_type": "slide"
    }
   },
   "source": [
    "# Change of violence rate in NYC, in the past 10 years\n",
    "\n",
    "In this animation, we see the variation of the occurences of violent crimes (*Rape*, *Robbery* and *Dangerous Weapons*) in NYC for the last 10 years. You can explore each year at a time, or let the movie elapse on its own. You can also zoom in at your convenience to better see the number of crimes. (if map not working, [download here][8])\n",
    "\n",
    "[8]:https://github.com/mbbustorff/SocialDataProject_NYCGentrification/blob/master/heatmap.html"
   ]
  },
  {
   "cell_type": "code",
   "execution_count": 15,
   "metadata": {
    "slideshow": {
     "slide_type": "-"
    }
   },
   "outputs": [
    {
     "data": {
      "text/html": [
       "\n",
       "        <iframe\n",
       "            width=\"450\"\n",
       "            height=\"350\"\n",
       "            src=\"heatmap.html\"\n",
       "            frameborder=\"0\"\n",
       "            allowfullscreen\n",
       "        ></iframe>\n",
       "        "
      ],
      "text/plain": [
       "<IPython.lib.display.IFrame at 0x259e0ac1888>"
      ]
     },
     "execution_count": 15,
     "metadata": {},
     "output_type": "execute_result"
    }
   ],
   "source": [
    "IFrame(src='heatmap.html', width=450, height=350)"
   ]
  },
  {
   "cell_type": "markdown",
   "metadata": {
    "slideshow": {
     "slide_type": "subslide"
    }
   },
   "source": [
    "# Evolution of violent crimes in the past 10 years\n",
    "\n",
    "Once again, the crimes observed are *Rape*, *Murder & Non-negligent men slaughter*, *Robbery* and *Dangerous Weapons*. \n",
    "\n",
    "First lets see their general distribution in NYC:\n",
    "\n",
    "[<img src=\"sc24.png\" width=\"250\"/>](sc24.png)\n",
    "\n",
    "We are also interested in the quantitative evolution of those crimes over the span of 2010-2019 in each borough. We believe that it could have a link to gentrification. "
   ]
  },
  {
   "cell_type": "markdown",
   "metadata": {
    "slideshow": {
     "slide_type": "-"
    }
   },
   "source": [
    "[<img src=\"sc21.png\" width=\"350\"/>](sc21.png)"
   ]
  },
  {
   "cell_type": "markdown",
   "metadata": {
    "slideshow": {
     "slide_type": "subslide"
    }
   },
   "source": [
    "[<img src=\"sc22.png\" width=\"350\"/>](sc22.png)\n",
    "[<img src=\"sc23.png\" width=\"350\"/>](sc23.png)"
   ]
  },
  {
   "cell_type": "markdown",
   "metadata": {
    "slideshow": {
     "slide_type": "subslide"
    }
   },
   "source": [
    "# Crimes conclusion\n",
    "\n",
    "The violence in NYC has evolved in the last years. By observing the heatmap, we can see a reduction of those crimes in the *gentrified* zones."
   ]
  },
  {
   "cell_type": "markdown",
   "metadata": {
    "slideshow": {
     "slide_type": "slide"
    }
   },
   "source": [
    "# Machine Learning: Random Forest Qualifier\n",
    "\n",
    "We have made a random forest qualifier where we tried to predict which future zip codes could be targeted by gentrification. However, we achieved no significant results since we were unable to find good qualifying attributes. (The code is in the Explainer notebook)."
   ]
  },
  {
   "cell_type": "markdown",
   "metadata": {
    "slideshow": {
     "slide_type": "slide"
    }
   },
   "source": [
    "# Final Conclusion \n",
    "\n",
    "In conclusion, we would say that it is very hard to analyze gentrification data since that phenomenon has lots of causes and consequences that cannot be quantified. "
   ]
  }
 ],
 "metadata": {
  "celltoolbar": "Diaporama",
  "kernelspec": {
   "display_name": "Python 3",
   "language": "python",
   "name": "python3"
  },
  "language_info": {
   "codemirror_mode": {
    "name": "ipython",
    "version": 3
   },
   "file_extension": ".py",
   "mimetype": "text/x-python",
   "name": "python",
   "nbconvert_exporter": "python",
   "pygments_lexer": "ipython3",
   "version": "3.7.6"
  }
 },
 "nbformat": 4,
 "nbformat_minor": 4
}
