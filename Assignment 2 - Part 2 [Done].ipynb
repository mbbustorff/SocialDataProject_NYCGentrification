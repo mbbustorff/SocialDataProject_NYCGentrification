{
 "cells": [
  {
   "cell_type": "markdown",
   "metadata": {},
   "source": [
    "# Part 2: Random forest and weather\n",
    "\n",
    "\n",
    "### The aim here is to recreate the work you did in Part 1 and 2 of the Week 7 lecture. I've phrased things differently relative to the exercise to make the purpose more clear.\n",
    "### Part 2A: Random forest binary classification.\n",
    "###### Using the instructions and material from Week 7, build a random forest classifier to distinguish between two types (you choose) of crime using on spatio-temporal (where/when) features of data describing the two crimes. When you're done, you should be able to give the classifier a place and a time, and it should tell you which of the two types of crime happened there."
   ]
  },
  {
   "cell_type": "code",
   "execution_count": 34,
   "metadata": {},
   "outputs": [],
   "source": [
    "import numpy as np\n",
    "import pandas as pd\n",
    "import matplotlib.pyplot as plt\n",
    "from scipy.linalg import svd\n",
    "from sklearn import preprocessing\n",
    "from sklearn.preprocessing import OneHotEncoder\n",
    "from sklearn.preprocessing import LabelEncoder\n",
    "from sklearn import tree\n",
    "\n",
    "filename = 'Police_Department_Incident_Reports__Historical_2003_to_May_2018.csv'\n",
    "df = pd.read_csv(filename)"
   ]
  },
  {
   "cell_type": "code",
   "execution_count": 35,
   "metadata": {},
   "outputs": [],
   "source": [
    "#Choosing the crimes: \n",
    "crimes= [\"DRIVING UNDER THE INFLUENCE\",\"DISORDERLY CONDUCT\"]\n",
    "df2=df[df.Category.isin(crimes)]"
   ]
  },
  {
   "cell_type": "markdown",
   "metadata": {},
   "source": [
    "**Encoding labels**"
   ]
  },
  {
   "cell_type": "code",
   "execution_count": 36,
   "metadata": {
    "collapsed": true
   },
   "outputs": [
    {
     "name": "stderr",
     "output_type": "stream",
     "text": [
      "C:\\Users\\Miguel\\Python\\lib\\site-packages\\ipykernel_launcher.py:4: SettingWithCopyWarning: \n",
      "A value is trying to be set on a copy of a slice from a DataFrame.\n",
      "Try using .loc[row_indexer,col_indexer] = value instead\n",
      "\n",
      "See the caveats in the documentation: https://pandas.pydata.org/pandas-docs/stable/user_guide/indexing.html#returning-a-view-versus-a-copy\n",
      "  after removing the cwd from sys.path.\n",
      "C:\\Users\\Miguel\\Python\\lib\\site-packages\\ipykernel_launcher.py:5: SettingWithCopyWarning: \n",
      "A value is trying to be set on a copy of a slice from a DataFrame.\n",
      "Try using .loc[row_indexer,col_indexer] = value instead\n",
      "\n",
      "See the caveats in the documentation: https://pandas.pydata.org/pandas-docs/stable/user_guide/indexing.html#returning-a-view-versus-a-copy\n",
      "  \"\"\"\n",
      "C:\\Users\\Miguel\\Python\\lib\\site-packages\\ipykernel_launcher.py:8: SettingWithCopyWarning: \n",
      "A value is trying to be set on a copy of a slice from a DataFrame.\n",
      "Try using .loc[row_indexer,col_indexer] = value instead\n",
      "\n",
      "See the caveats in the documentation: https://pandas.pydata.org/pandas-docs/stable/user_guide/indexing.html#returning-a-view-versus-a-copy\n",
      "  \n",
      "C:\\Users\\Miguel\\Python\\lib\\site-packages\\ipykernel_launcher.py:12: SettingWithCopyWarning: \n",
      "A value is trying to be set on a copy of a slice from a DataFrame.\n",
      "Try using .loc[row_indexer,col_indexer] = value instead\n",
      "\n",
      "See the caveats in the documentation: https://pandas.pydata.org/pandas-docs/stable/user_guide/indexing.html#returning-a-view-versus-a-copy\n",
      "  if sys.path[0] == '':\n",
      "C:\\Users\\Miguel\\Python\\lib\\site-packages\\ipykernel_launcher.py:13: SettingWithCopyWarning: \n",
      "A value is trying to be set on a copy of a slice from a DataFrame.\n",
      "Try using .loc[row_indexer,col_indexer] = value instead\n",
      "\n",
      "See the caveats in the documentation: https://pandas.pydata.org/pandas-docs/stable/user_guide/indexing.html#returning-a-view-versus-a-copy\n",
      "  del sys.path[0]\n",
      "C:\\Users\\Miguel\\Python\\lib\\site-packages\\ipykernel_launcher.py:17: SettingWithCopyWarning: \n",
      "A value is trying to be set on a copy of a slice from a DataFrame.\n",
      "Try using .loc[row_indexer,col_indexer] = value instead\n",
      "\n",
      "See the caveats in the documentation: https://pandas.pydata.org/pandas-docs/stable/user_guide/indexing.html#returning-a-view-versus-a-copy\n",
      "C:\\Users\\Miguel\\Python\\lib\\site-packages\\ipykernel_launcher.py:18: SettingWithCopyWarning: \n",
      "A value is trying to be set on a copy of a slice from a DataFrame.\n",
      "Try using .loc[row_indexer,col_indexer] = value instead\n",
      "\n",
      "See the caveats in the documentation: https://pandas.pydata.org/pandas-docs/stable/user_guide/indexing.html#returning-a-view-versus-a-copy\n"
     ]
    }
   ],
   "source": [
    "le=LabelEncoder()\n",
    "\n",
    "#Encoding the districts\n",
    "df2[\"PdDistrict\"]=df2[\"PdDistrict\"].astype('str') #Changing the type to a string type\n",
    "df2[\"PdDistrictNum\"]= le.fit_transform(df2[\"PdDistrict\"])\n",
    "\n",
    "#Encoding the week days\n",
    "df2[\"DayOfWeekNum\"]= le.fit_transform(df2[\"DayOfWeek\"])\n",
    "#In that case, Monday:1 Tuesday:4 Wednseday:6 Thursday:5 Friday:0 Saturday:2 Sunday:3\n",
    "\n",
    "#Encoding the hours (24h)\n",
    "df2[\"Time\"] = pd.to_datetime(df2[\"Time\"])\n",
    "df2['Time_hourNum'] = df2['Time'].dt.hour\n",
    "#The hours go from 0 to 23 where 0 is midnight, 1 is 1:00... and 23 is 23:00\n",
    "\n",
    "#Encoding the Crimes\n",
    "df2[\"Category\"]=df2[\"Category\"].astype('str') #Changing the type to a string type\n",
    "df2[\"CategoryNum\"]= le.fit_transform(df2[\"Category\"])"
   ]
  },
  {
   "cell_type": "code",
   "execution_count": 37,
   "metadata": {},
   "outputs": [],
   "source": [
    "#Dataset for the to chosen crimes\n",
    "d2concat=pd.concat([df2[\"DayOfWeekNum\"],df2['Time_hourNum'],df2[\"PdDistrictNum\"]],axis=1)"
   ]
  },
  {
   "cell_type": "code",
   "execution_count": 38,
   "metadata": {},
   "outputs": [],
   "source": [
    "#Random Forest Classifier:\n",
    "Element=df2[\"Category\"] #Choose the element to predict based on the information you will give later\n",
    "\n",
    "from sklearn.model_selection import train_test_split\n",
    "\n",
    "X_train,X_test,y_train,y_test = train_test_split(d2concat,Element, test_size =0.2)\n",
    "\n",
    "\n",
    "from sklearn.ensemble import RandomForestClassifier"
   ]
  },
  {
   "cell_type": "code",
   "execution_count": 40,
   "metadata": {
    "collapsed": true
   },
   "outputs": [
    {
     "data": {
      "text/plain": [
       "RandomForestClassifier(bootstrap=True, class_weight=None, criterion='gini',\n",
       "            max_depth=None, max_features='auto', max_leaf_nodes=None,\n",
       "            min_impurity_decrease=0.0, min_impurity_split=None,\n",
       "            min_samples_leaf=1, min_samples_split=2,\n",
       "            min_weight_fraction_leaf=0.0, n_estimators=100, n_jobs=1,\n",
       "            oob_score=False, random_state=None, verbose=0,\n",
       "            warm_start=False)"
      ]
     },
     "execution_count": 40,
     "metadata": {},
     "output_type": "execute_result"
    }
   ],
   "source": [
    "from sklearn.ensemble import RandomForestClassifier\n",
    "\n",
    "RandomForest= RandomForestClassifier(n_estimators=100)\n",
    "RandomForest.fit(X_train,y_train)"
   ]
  },
  {
   "cell_type": "code",
   "execution_count": 41,
   "metadata": {},
   "outputs": [
    {
     "data": {
      "text/plain": [
       "0.7394209354120267"
      ]
     },
     "execution_count": 41,
     "metadata": {},
     "output_type": "execute_result"
    }
   ],
   "source": [
    "RandomForest.score(X_test,y_test) #Function that gives the accuracy of the model, with n_estimators=1000, the accuracy is ~73%"
   ]
  },
  {
   "cell_type": "markdown",
   "metadata": {},
   "source": [
    "**Test our classifier!**\n",
    "\n",
    "Give it a Place and a time, and you will receive a prediction!"
   ]
  },
  {
   "cell_type": "code",
   "execution_count": 42,
   "metadata": {},
   "outputs": [
    {
     "data": {
      "text/plain": [
       "array(['DISORDERLY CONDUCT'], dtype=object)"
      ]
     },
     "execution_count": 42,
     "metadata": {},
     "output_type": "execute_result"
    }
   ],
   "source": [
    "DayOfWeek=6    #Monday:1, Tuesday:4, Wednseday:6, Thursday:5, Friday:0, Saturday:2, Sunday:3\n",
    "HourOfTheDay=16 #The hours go from 0 to 23 where 0 is midnight, 1 is 1:00... and 23 is 23:00\n",
    "District=2      #BAYVIEW:0, CENTRAL:1, INGLESIDE:2, MISSION:3, NORTHERN:4, PARK:5, RICHMOND:6, SOUTHERN:7, TARAVAL:8, TENDERLOIN:9\n",
    "\n",
    "#Prediction:\n",
    "RandomForest.predict([[DayOfWeek,HourOfTheDay,District]])"
   ]
  },
  {
   "cell_type": "markdown",
   "metadata": {},
   "source": [
    "**Creation of Confusion matrix to check the validity of the model:**"
   ]
  },
  {
   "cell_type": "code",
   "execution_count": 12,
   "metadata": {},
   "outputs": [],
   "source": [
    "y_predicted=RandomForest.predict(X_test)"
   ]
  },
  {
   "cell_type": "code",
   "execution_count": 13,
   "metadata": {},
   "outputs": [],
   "source": [
    "from sklearn.metrics import confusion_matrix\n",
    "confusionmatrix= confusion_matrix(y_test,y_predicted)"
   ]
  },
  {
   "cell_type": "code",
   "execution_count": 14,
   "metadata": {},
   "outputs": [
    {
     "data": {
      "text/plain": [
       "Text(69,0.5,'Truth')"
      ]
     },
     "execution_count": 14,
     "metadata": {},
     "output_type": "execute_result"
    },
    {
     "data": {
      "image/png": "[encoded data removed]",
      "text/plain": [
       "<Figure size 720x504 with 2 Axes>"
      ]
     },
     "metadata": {
      "needs_background": "light"
     },
     "output_type": "display_data"
    }
   ],
   "source": [
    "import matplotlib.pyplot as plt\n",
    "import seaborn as sn\n",
    "plt.figure(figsize=(10,7))\n",
    "sn.heatmap(confusionmatrix,annot=True)\n",
    "plt.xlabel('Predicted')\n",
    "plt.ylabel('Truth')\n",
    "#In the plot belw, 0 stands for DISORDERLY CONDUCT and 1 for DRIVER UNDER INFLUENCE "
   ]
  },
  {
   "cell_type": "markdown",
   "metadata": {},
   "source": [
    "The confusion-matrix above is a specific table layout that allows visualization of the performance of an algorithm. \n",
    "It confronts the predicted values with the real ones for the tested data. A matching case (ex: 0 in x-axis and 0 in y-axis) indicates a succes in the prediction, and a non-matching one (ex: 1 in x-axis and 0 in y-axis) indicates a prediction failure.\n",
    "Here we can see that our model performed really good for the DISORDERLY CONDUCT (which are represented by the number 0 in the matrix). Indeed, if we look at the case corresponding to Predicted and Truth for 0, we can see that its value is pretty high. \n",
    "However we can observe that there is some error remaining. In fact, the values of the cases that do not match a 1 with a 1 are about 25% of the total values. \n",
    "This corresponds to the accuracy rate of ~74% stated earlier."
   ]
  },
  {
   "cell_type": "markdown",
   "metadata": {},
   "source": [
    "###### Explain about your choices for training/test data, features, and encoding. (You decide how to present your results, but here are some example topics to consider: Did you balance the training data? What are the pros/cons of balancing? Do you think your model is overfitting? Did you choose to do cross-validation? Which specific features did you end up using? Why? Which features (if any) did you one-hot encode? Why ... or why not?))"
   ]
  },
  {
   "cell_type": "markdown",
   "metadata": {},
   "source": [
    "In order to choose our training/test data, we looked at Assignment 1 to see which of the Crimes have the most different spatio-temporal patterns. "
   ]
  },
  {
   "cell_type": "markdown",
   "metadata": {},
   "source": [
    "<img src=\"Captureplot.PNG\"/>"
   ]
  },
  {
   "cell_type": "markdown",
   "metadata": {},
   "source": [
    "Indeed, the two categories we chose have noticeable different frequencies depending on the hour of the day as shown above, and it is also the case for the day of the week.\n",
    "\n",
    "Moreover DISORDERLY CONDUCT can be assumed as dependent on the weather (due to it being an outdoor activity), thus we expect a change between the first and the second Random Forest. While DRIVING UNDER THE INFLUENCE since the number of motorist during the night roughtly depends on the weather. Thus it could be interesting to see how the second Random Forest where we include weather conditions differ from the first one.\n",
    "By choosing two crimes with distinct frequency patters, it should be easier to classify them.\n",
    "\n",
    "The choice of the features is linked to the choice of the two crimes we had to differenciate. Indeed, the features chosen are the ones for which we could observe differences in the crime categories. Thus the features choice should allow us to differentiate our two elements as best as possible.\n",
    "\n",
    "For our model, 80% of the data has been taken for training and 20% for testing.\n",
    "\n",
    "We could make the dataset 'balanced' by grabbing an equal number of examples from each crime category (we decided not to do so for the reasons mentionned below). \n",
    "The pros of balancing the dataset are that we will have the same number of observations for each category which leads to a fair comparison and avoids a situation where one element overpowers the other. However depending on the cut made in the dataset, this can lead to an analysis based in too few datapoints. We can take as example a comparison between 100 cases of DRIVING UNDER THE INFLUENCE and 1000 cases of DISORDERLY CONDUCT, by balacing the data we would only have 200 datapoints instead of 1100. It would be very limiting for our model.\n",
    "\n",
    "Regarding the encoding, performing label encoding when working with the hours of the week also induces order/precedence in the numbers. This could create an unwanted bias but since we are dealing with hours, the numerical order is well suited, and allows a sense of continuity. \n",
    "However label encoding poses problems when working with other features such as week days or District due to precedence and unwanted order. That's why it would be better to work with one-hot encode for that kind of features. However due to data visualization issues we had to work only with label encoding.\n",
    "\n",
    "Cross-Validation is one of the many existing techniques for the validation of a model. In our code, we used another validation method, the confusion matrix. One of the advantages of the confusion matrix is that it quickly shows whether a classification system manages to classify correctly."
   ]
  },
  {
   "cell_type": "markdown",
   "metadata": {},
   "source": [
    "### Report accuracy. Discuss the model performance."
   ]
  },
  {
   "cell_type": "markdown",
   "metadata": {},
   "source": [
    "The value for accuracy of the Random Forest Classifier is between 73 and 76%. This accuracy depends on the number of decision trees and which ones are used. In fact, since the Random Forest Classifier algorithm performs training on multiple decision trees trained on different subsets of data that are different every time, the accuracy will never be exactly the same even if two Random Forest Classifier have the same Number of Decision trees."
   ]
  },
  {
   "cell_type": "markdown",
   "metadata": {},
   "source": [
    "### Part 2B: Info from weather features.\n",
    "### Now add features from weather data to your random forest. "
   ]
  },
  {
   "cell_type": "code",
   "execution_count": 22,
   "metadata": {},
   "outputs": [],
   "source": [
    "filename2 = 'weather_data.csv'\n",
    "df_weather = pd.read_csv(filename2)"
   ]
  },
  {
   "cell_type": "code",
   "execution_count": 23,
   "metadata": {},
   "outputs": [],
   "source": [
    "df3=df[df.Category.isin(crimes)]"
   ]
  },
  {
   "cell_type": "code",
   "execution_count": 24,
   "metadata": {},
   "outputs": [
    {
     "name": "stderr",
     "output_type": "stream",
     "text": [
      "C:\\Users\\Miguel\\Python\\lib\\site-packages\\ipykernel_launcher.py:7: SettingWithCopyWarning: \n",
      "A value is trying to be set on a copy of a slice from a DataFrame.\n",
      "Try using .loc[row_indexer,col_indexer] = value instead\n",
      "\n",
      "See the caveats in the documentation: https://pandas.pydata.org/pandas-docs/stable/user_guide/indexing.html#returning-a-view-versus-a-copy\n",
      "  import sys\n",
      "C:\\Users\\Miguel\\Python\\lib\\site-packages\\pandas\\core\\indexing.py:965: SettingWithCopyWarning: \n",
      "A value is trying to be set on a copy of a slice from a DataFrame.\n",
      "Try using .loc[row_indexer,col_indexer] = value instead\n",
      "\n",
      "See the caveats in the documentation: https://pandas.pydata.org/pandas-docs/stable/user_guide/indexing.html#returning-a-view-versus-a-copy\n",
      "  self.obj[item] = s\n"
     ]
    }
   ],
   "source": [
    "#We create a new column in the crime dataframe\n",
    "#In there, we will re-enter the date and time, but in the same format as used in the weather dataframe\n",
    "#By doing that we are able to merge the two dataframes\n",
    "\n",
    "import numpy as np\n",
    "\n",
    "df3['date'] = \"\"\n",
    "\n",
    "for i in range(len(df3[\"Date\"])):\n",
    "    stringDay = df3.iloc[i,4][6:10]+\"-\"+df3.iloc[i,4][0:2]+\"-\"+df3.iloc[i,4][3:5]+\"T\"+df3.iloc[i,5][0:2]+\":00:00.000Z\"\n",
    "    df3.iloc[i,13] = stringDay\n",
    "\n",
    "result = pd.merge(df3, df_weather, on='date')\n",
    "\n",
    "#----------------------ATTENTION-------------------\n",
    "#-------THIS MIGHT BE LONG TO RUN------------------"
   ]
  },
  {
   "cell_type": "code",
   "execution_count": 25,
   "metadata": {},
   "outputs": [],
   "source": [
    "#Label encoding:\n",
    "\n",
    "#District:\n",
    "result[\"PdDistrict\"]=result[\"PdDistrict\"].astype('str') #Changing the type to a string type\n",
    "result[\"PdDistrictNum\"]= le.fit_transform(result[\"PdDistrict\"])\n",
    "\n",
    "#Hours:\n",
    "result[\"Time\"] = pd.to_datetime(result[\"Time\"])\n",
    "result['Time_hourNum'] = result['Time'].dt.hour\n",
    "\n",
    "#Week days:\n",
    "result[\"DayOfWeekNum\"]= le.fit_transform(result[\"DayOfWeek\"])\n",
    "\n",
    "#Crimes  (DISORDERLY CONDUCT:0, DRIVING UNDER THE INFLUENCE:1) :\n",
    "result[\"Category\"]=result[\"Category\"].astype('str') #Changing the type to a string type\n",
    "result[\"CategoryNum\"]= le.fit_transform(result[\"Category\"])\n",
    "\n",
    "#Taking the features related to the weather that would influence the most our Random Forest:\n",
    "\n",
    "#weather\n",
    "result[\"weather\"]=result[\"weather\"].astype('str') #Changing the type to a string type\n",
    "result[\"weatherNum\"]= le.fit_transform(result[\"weather\"])\n",
    "# broken clouds:0 , drizzle:1, few clouds:2 , 'fog':3, 'haze':4, 'heavy intensity drizzle':5, 'heavy intensity rain':6, 'heavy snow':7, 'light intensity drizzle':8, 'light intensity shower rain':9,  \n",
    "#'light rain':10,'light snow':11, 'mist':12, 'moderate rain':13, 'overcast clouds':14, 'proximity shower rain':15, 'proximity thunderstorm':16, 'proximity thunderstorm with rain',\n",
    "#'scattered clouds':17, 'shower rain':18, 'sky is clear':19, 'smoke':20, 'squalls':21, 'thunderstorm':22, 'thunderstorm with heavy rain':23,\n",
    "#'thunderstorm with light rain':24, 'thunderstorm with rain':25,'very heavy rain':26\n",
    "\n",
    "#humidity\n",
    "result['humidityRound']=result[\"humidity\"].round(0)\n",
    "result['humidityRound']=result['humidityRound'].astype('int') \n",
    "\n",
    "#temperature\n",
    "result['temperatureRound']=result[\"temperature\"].round(0)\n",
    "result['temperatureRound']=result['temperatureRound'].astype('int') "
   ]
  },
  {
   "cell_type": "code",
   "execution_count": 26,
   "metadata": {},
   "outputs": [],
   "source": [
    "#Creating our new dataset with the features that will be used in the Random Forest\n",
    "resultconcat=pd.concat([result[\"DayOfWeekNum\"],result['Time_hourNum'],result[\"PdDistrictNum\"],result[\"weatherNum\"],result['humidityRound'],result['temperatureRound'],result['CategoryNum']],axis=1)"
   ]
  },
  {
   "cell_type": "code",
   "execution_count": 27,
   "metadata": {},
   "outputs": [
    {
     "data": {
      "text/html": [
       "<div>\n",
       "<style scoped>\n",
       "    .dataframe tbody tr th:only-of-type {\n",
       "        vertical-align: middle;\n",
       "    }\n",
       "\n",
       "    .dataframe tbody tr th {\n",
       "        vertical-align: top;\n",
       "    }\n",
       "\n",
       "    .dataframe thead th {\n",
       "        text-align: right;\n",
       "    }\n",
       "</style>\n",
       "<table border=\"1\" class=\"dataframe\">\n",
       "  <thead>\n",
       "    <tr style=\"text-align: right;\">\n",
       "      <th></th>\n",
       "      <th>DayOfWeekNum</th>\n",
       "      <th>Time_hourNum</th>\n",
       "      <th>PdDistrictNum</th>\n",
       "      <th>weatherNum</th>\n",
       "      <th>humidityRound</th>\n",
       "      <th>temperatureRound</th>\n",
       "      <th>CategoryNum</th>\n",
       "    </tr>\n",
       "  </thead>\n",
       "  <tbody>\n",
       "    <tr>\n",
       "      <th>0</th>\n",
       "      <td>0</td>\n",
       "      <td>23</td>\n",
       "      <td>0</td>\n",
       "      <td>18</td>\n",
       "      <td>55</td>\n",
       "      <td>27</td>\n",
       "      <td>1</td>\n",
       "    </tr>\n",
       "    <tr>\n",
       "      <th>1</th>\n",
       "      <td>6</td>\n",
       "      <td>12</td>\n",
       "      <td>1</td>\n",
       "      <td>0</td>\n",
       "      <td>75</td>\n",
       "      <td>8</td>\n",
       "      <td>0</td>\n",
       "    </tr>\n",
       "    <tr>\n",
       "      <th>2</th>\n",
       "      <td>2</td>\n",
       "      <td>23</td>\n",
       "      <td>1</td>\n",
       "      <td>17</td>\n",
       "      <td>53</td>\n",
       "      <td>12</td>\n",
       "      <td>1</td>\n",
       "    </tr>\n",
       "    <tr>\n",
       "      <th>3</th>\n",
       "      <td>2</td>\n",
       "      <td>23</td>\n",
       "      <td>3</td>\n",
       "      <td>17</td>\n",
       "      <td>53</td>\n",
       "      <td>12</td>\n",
       "      <td>1</td>\n",
       "    </tr>\n",
       "    <tr>\n",
       "      <th>4</th>\n",
       "      <td>5</td>\n",
       "      <td>0</td>\n",
       "      <td>3</td>\n",
       "      <td>2</td>\n",
       "      <td>56</td>\n",
       "      <td>11</td>\n",
       "      <td>1</td>\n",
       "    </tr>\n",
       "  </tbody>\n",
       "</table>\n",
       "</div>"
      ],
      "text/plain": [
       "   DayOfWeekNum  Time_hourNum  PdDistrictNum  weatherNum  humidityRound  \\\n",
       "0             0            23              0          18             55   \n",
       "1             6            12              1           0             75   \n",
       "2             2            23              1          17             53   \n",
       "3             2            23              3          17             53   \n",
       "4             5             0              3           2             56   \n",
       "\n",
       "   temperatureRound  CategoryNum  \n",
       "0                27            1  \n",
       "1                 8            0  \n",
       "2                12            1  \n",
       "3                12            1  \n",
       "4                11            1  "
      ]
     },
     "execution_count": 27,
     "metadata": {},
     "output_type": "execute_result"
    }
   ],
   "source": [
    "resultconcat.head()"
   ]
  },
  {
   "cell_type": "code",
   "execution_count": 28,
   "metadata": {},
   "outputs": [],
   "source": [
    "#Random Forest Classifier:\n",
    "Element2=result[\"Category\"] #Choose the element to predict based on the information you will give later\n",
    "resultconcatdrop= resultconcat.drop([\"CategoryNum\"],axis='columns')\n",
    "from sklearn.model_selection import train_test_split\n",
    "\n",
    "X_train2,X_test2,y_train2,y_test2 = train_test_split(resultconcatdrop, Element2, test_size =0.2)\n",
    "\n",
    "from sklearn.ensemble import RandomForestClassifier"
   ]
  },
  {
   "cell_type": "code",
   "execution_count": 43,
   "metadata": {
    "collapsed": true
   },
   "outputs": [
    {
     "data": {
      "text/plain": [
       "RandomForestClassifier(bootstrap=True, class_weight=None, criterion='gini',\n",
       "            max_depth=None, max_features='auto', max_leaf_nodes=None,\n",
       "            min_impurity_decrease=0.0, min_impurity_split=None,\n",
       "            min_samples_leaf=1, min_samples_split=2,\n",
       "            min_weight_fraction_leaf=0.0, n_estimators=100, n_jobs=1,\n",
       "            oob_score=False, random_state=None, verbose=0,\n",
       "            warm_start=False)"
      ]
     },
     "execution_count": 43,
     "metadata": {},
     "output_type": "execute_result"
    }
   ],
   "source": [
    "from sklearn.ensemble import RandomForestClassifier\n",
    "\n",
    "RandomForest2 = RandomForestClassifier(n_estimators=100)\n",
    "RandomForest2.fit(X_train2,y_train2)"
   ]
  },
  {
   "cell_type": "code",
   "execution_count": 44,
   "metadata": {},
   "outputs": [
    {
     "data": {
      "text/plain": [
       "0.7333333333333333"
      ]
     },
     "execution_count": 44,
     "metadata": {},
     "output_type": "execute_result"
    }
   ],
   "source": [
    "RandomForest2.score(X_test2,y_test2) #Accuracy"
   ]
  },
  {
   "cell_type": "markdown",
   "metadata": {},
   "source": [
    "**Test our classifier!**\n",
    "\n",
    "Give it a Place and a time, as well as weather conditions, and you will receive a prediction!"
   ]
  },
  {
   "cell_type": "code",
   "execution_count": 46,
   "metadata": {},
   "outputs": [
    {
     "data": {
      "text/plain": [
       "array(['DISORDERLY CONDUCT'], dtype=object)"
      ]
     },
     "execution_count": 46,
     "metadata": {},
     "output_type": "execute_result"
    }
   ],
   "source": [
    "DayOfWeek=6    #Monday:1, Tuesday:4, Wednseday:6, Thursday:5, Friday:0, Saturday:2, Sunday:3\n",
    "HourOfTheDay=16 #The hours go from 0 to 23 where 0 is midnight, 1 is 1:00... and 23 is 23:00\n",
    "District=1      #BAYVIEW:0, CENTRAL:1, INGLESIDE:2, MISSION:3, NORTHERN:4, PARK:5, RICHMOND:6, SOUTHERN:7, TARAVAL:8, TENDERLOIN:9\n",
    "Temperature=2\n",
    "Humidity=94\n",
    "Weather=10\n",
    "\n",
    "\n",
    "#Prediction:\n",
    "RandomForest2.predict([[DayOfWeek,HourOfTheDay,District,Weather,Humidity,Temperature]])"
   ]
  },
  {
   "cell_type": "markdown",
   "metadata": {},
   "source": [
    "**Creation of Confusion matrix to check the validity of the model:**"
   ]
  },
  {
   "cell_type": "code",
   "execution_count": 47,
   "metadata": {},
   "outputs": [
    {
     "data": {
      "text/plain": [
       "Text(69,0.5,'Truth')"
      ]
     },
     "execution_count": 47,
     "metadata": {},
     "output_type": "execute_result"
    },
    {
     "data": {
      "image/png": "[encoded data removed]",
      "text/plain": [
       "<Figure size 720x504 with 2 Axes>"
      ]
     },
     "metadata": {
      "needs_background": "light"
     },
     "output_type": "display_data"
    }
   ],
   "source": [
    "y_predicted2=RandomForest2.predict(X_test2)\n",
    "\n",
    "from sklearn.metrics import confusion_matrix\n",
    "confusionmatrix2= confusion_matrix(y_test2,y_predicted2)\n",
    "\n",
    "import matplotlib.pyplot as plt\n",
    "import seaborn as sn\n",
    "plt.figure(figsize=(10,7))\n",
    "sn.heatmap(confusionmatrix2,annot=True)\n",
    "plt.xlabel('Predicted')\n",
    "plt.ylabel('Truth')\n",
    "#In the plot belw, 0 stands for DISORDERLY CONDUCT and 1 for DRIVER UNDER INFLUENCE "
   ]
  },
  {
   "cell_type": "markdown",
   "metadata": {},
   "source": [
    "As for the first confusion matrix, we can the ratio of success for the DISORDERLY CONDUCT is better than for DRIVING UNDER INFLUENCE.\n",
    "Once again, those ratios correspond to the accurace of ~73% found above."
   ]
  },
  {
   "cell_type": "markdown",
   "metadata": {},
   "source": [
    "### Discuss how the model performance changes relative to the version with no weather data.\n"
   ]
  },
  {
   "cell_type": "markdown",
   "metadata": {},
   "source": [
    "Surprisingly, the accuracy of the new model is very close to 73% once again. At first this might seem counter-intuitive since we have more criteria to classify the data, therefore the model should be more accurate.\n",
    "\n",
    "However, after reflection, we can explain this by the fact that the pool of data was greatly reduced when merging with the weather dataframe. In fact, we only had the weather since 2012, where the crime records started in 2003. The merged dataframe was severely reduced to include only the dates for which we had a weather record. It was cut from 15 712, to 4498 entries.\n",
    "This can explain why the accuracy remained the same:\n",
    "- On one hand, more qualifying criteria increase the accuracy\n",
    "- On the other hand, a reduced number of data, reduces the accuracy\n",
    "\n",
    "**Resulting - per coincidence - in the same accuracy**"
   ]
  },
  {
   "cell_type": "code",
   "execution_count": 52,
   "metadata": {},
   "outputs": [
    {
     "name": "stdout",
     "output_type": "stream",
     "text": [
      "15712\n",
      "4498\n"
     ]
    }
   ],
   "source": [
    "print(len(df2[\"Category\"]))\n",
    "print(len(result[\"Category\"]))"
   ]
  },
  {
   "cell_type": "markdown",
   "metadata": {},
   "source": [
    "### Discuss what you have learned about crime from including weather data in your model. "
   ]
  },
  {
   "cell_type": "markdown",
   "metadata": {},
   "source": [
    "We have learned that including weather data in the model can change the efficiency of classification. Indeed as written previously, the accuracy has virtually improved.\n",
    "Moreover including new criteria allows us to add features in the decision trees to process information. The more features we have, more precise is the classification.\n",
    "\n",
    "Finally we learned that adding features but forcing a reduction of datapoints, is not always profitable for a model."
   ]
  },
  {
   "cell_type": "code",
   "execution_count": null,
   "metadata": {},
   "outputs": [],
   "source": []
  }
 ],
 "metadata": {
  "kernelspec": {
   "display_name": "Python 3",
   "language": "python",
   "name": "python3"
  },
  "language_info": {
   "codemirror_mode": {
    "name": "ipython",
    "version": 3
   },
   "file_extension": ".py",
   "mimetype": "text/x-python",
   "name": "python",
   "nbconvert_exporter": "python",
   "pygments_lexer": "ipython3",
   "version": "3.7.0"
  }
 },
 "nbformat": 4,
 "nbformat_minor": 4
}
