{
 "cells": [
  {
   "cell_type": "markdown",
   "metadata": {
    "slideshow": {
     "slide_type": "slide"
    }
   },
   "source": [
    "# 1. Motivation\n",
    "### What is your dataset?\n",
    "\n",
    "In this project, we are looking at **New York City** and its **gentrification**. We used 2 datasets: the *Property Valuation and Assessment Data* and the *NYPD Arrests Data (Historic)*. \n",
    "\n",
    "In the *Property* dataset we are mostly focused on the *FULLVAL* column since it is the one with the information about the prices of properties. We also grouped the values per ZIP code, in order to later use them in a map of New York.\n",
    "\n",
    "In the *Crime* dataset, we focused on 4 crimes from the *OFNS_DESC* column: *Rape*, *Murder & Non-negligent men slaughter*, *Robbery* and *Dangerous Weapons*. We wanted to gather data about the most violent crimes."
   ]
  },
  {
   "cell_type": "code",
   "execution_count": 1,
   "metadata": {
    "slideshow": {
     "slide_type": "subslide"
    }
   },
   "outputs": [],
   "source": [
    "import pandas as pd \n",
    "import numpy as np\n",
    "import matplotlib.pyplot as plt\n",
    "\n",
    "from sklearn.tree import DecisionTreeClassifier\n",
    "from sklearn.tree import export_graphviz\n",
    "from sklearn import model_selection\n",
    "from IPython.display import Image\n",
    "from sklearn.metrics import accuracy_score\n",
    "\n",
    "from bokeh.io import output_notebook, show\n",
    "from bokeh.models import ColumnDataSource\n",
    "from bokeh.plotting import figure\n",
    "from bokeh import plotting\n",
    "from bokeh.models import FactorRange\n",
    "from bokeh.transform import dodge\n",
    "from bokeh.models import Legend\n",
    "from bokeh.palettes import Category20c"
   ]
  },
  {
   "cell_type": "code",
   "execution_count": null,
   "metadata": {
    "slideshow": {
     "slide_type": "skip"
    }
   },
   "outputs": [
    {
     "name": "stderr",
     "output_type": "stream",
     "text": [
      "C:\\Users\\Miguel\\Python\\lib\\site-packages\\IPython\\core\\interactiveshell.py:2785: DtypeWarning: Columns (0,4) have mixed types.Specify dtype option on import or set low_memory=False.\n",
      "  interactivity=interactivity, compiler=compiler, result=result)\n"
     ]
    }
   ],
   "source": [
    "# Import property data\n",
    "#data_property = pd.read_csv(\"Property_Valuation_and_Assessment_Data.csv\") \n",
    "#df_property = pd.DataFrame(data_property)\n",
    "\n",
    "# Import crime data\n",
    "#data_crime = pd.read_csv(\"NYPD_Arrests_Data__Historic_.csv\") \n",
    "#df_crime = pd.DataFrame(data_crime)\n",
    "\n",
    "#Show overview\n",
    "#print(df_property.head())\n",
    "#print(df_crime.head())"
   ]
  },
  {
   "cell_type": "markdown",
   "metadata": {
    "slideshow": {
     "slide_type": "slide"
    }
   },
   "source": [
    "### Why did you choose this/these particular datasets?\n",
    "\n",
    "We started with a question: *What factors, visible in open datasets, could be correlated with gentrification?*. Some of our hypothesis were \"the evolution of price of property in a zone\" and \"the overall safety of a zone\". In this project, we want to confirm or reject our suppositions, and try to show what they represent through visualization. \n",
    "\n",
    "The *Property* and *Crime* datasets gives usefull information to answer these questions, and they range from 2010 to 2019, wich is an acceptable span of time to observe evolution and changes.\n",
    "\n",
    "### What was your goal for the end user's experience?\n",
    "\n",
    "We want the user to learn about gentrification and some of its manifestations in New York. We want the user to be able to interact with our visualizations in order to have a more engaging experience. Our goal is to clearly communicate our findings and letting space for the user to explore our visual story. "
   ]
  },
  {
   "cell_type": "markdown",
   "metadata": {
    "slideshow": {
     "slide_type": "slide"
    }
   },
   "source": [
    "# 2. Basic statistcs\n",
    "### Write about your choices in data cleaning and preprocessing\n",
    "\n",
    "At first we had a 2 GB data set of the property values with a lot different variables that were not relevant to our study, so we started by removing from the dataframe all the useless columns (such as \"owner\", \"block\" or \"taxclass\"). Afterwards we needed to ensure that every row was complete, and that there was no cell holding ‘NaN’, to do so we just apply the method dropna() on our dataframe. At that point we almost have a fully ready dataframe, we then just needed to ensure that all the variables have the desired type, such as the zip codes that should be integers as the year variable. And we also ensured that the values of the properties were in the type float.\n",
    "\n",
    "(Add code)\n",
    "\n",
    "We then conduct a similar cleaning and processing on the crime data set that we’re using. We first identify only the crimes that are relevant to our study and the filter out all the other crimes, in our case we get interested in the crimes : Robbery, Dangerous weapons, Rape and Murder associated with non negligent men slaughter. The objective of this data set was primarily to produce a movie with a heat map, therefore we first create a new column associated to each crime representing the year the arrestation has been made, and thus afterwards we filter out our data even more in order to have a data frame at the end containing only the year (as an integer), and the longitude and latitude as a float.\n",
    "\n",
    "\n",
    "### Write a short section that discusses the dataset stats, containing key points/plots from your exploratory data analysis. \n",
    "\n",
    "Crime data not balanced (check pie chart), but we kept it like that bcs we want to see the total evolution.\n",
    "\n"
   ]
  },
  {
   "cell_type": "code",
   "execution_count": null,
   "metadata": {
    "slideshow": {
     "slide_type": "skip"
    }
   },
   "outputs": [],
   "source": []
  }
 ],
 "metadata": {
  "celltoolbar": "Aucun(e)",
  "kernelspec": {
   "display_name": "Python 3",
   "language": "python",
   "name": "python3"
  },
  "language_info": {
   "codemirror_mode": {
    "name": "ipython",
    "version": 3
   },
   "file_extension": ".py",
   "mimetype": "text/x-python",
   "name": "python",
   "nbconvert_exporter": "python",
   "pygments_lexer": "ipython3",
   "version": "3.7.6"
  }
 },
 "nbformat": 4,
 "nbformat_minor": 2
}
